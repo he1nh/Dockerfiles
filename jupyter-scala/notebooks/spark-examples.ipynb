{
 "cells": [
  {
   "cell_type": "markdown",
   "metadata": {},
   "source": [
    "create a dataframe from a list:"
   ]
  },
  {
   "cell_type": "code",
   "execution_count": 26,
   "metadata": {},
   "outputs": [
    {
     "data": {
      "text/plain": [
       "df: org.apache.spark.sql.DataFrame = [id: int, letter: string ... 1 more field]\n"
      ]
     },
     "execution_count": 26,
     "metadata": {},
     "output_type": "execute_result"
    }
   ],
   "source": [
    "val df = List(\n",
    "    (1,\"A\",\"what a piece of work is man\"),\n",
    "    (2,\"B\",\"to reason is to touch the sun\"),\n",
    "    (3,\"C\",\"rare jongens die Romeinen\")\n",
    ").toDF(\"id\",\"letter\",\"text\")"
   ]
  },
  {
   "cell_type": "code",
   "execution_count": 27,
   "metadata": {},
   "outputs": [
    {
     "name": "stdout",
     "output_type": "stream",
     "text": [
      "+---+------+--------------------+\n",
      "| id|letter|                text|\n",
      "+---+------+--------------------+\n",
      "|  1|     A|what a piece of w...|\n",
      "|  2|     B|to reason is to t...|\n",
      "|  3|     C|rare jongens die ...|\n",
      "+---+------+--------------------+\n",
      "\n"
     ]
    }
   ],
   "source": [
    "df.show"
   ]
  },
  {
   "cell_type": "markdown",
   "metadata": {},
   "source": [
    "write the data as parquet file(s) into the dir data"
   ]
  },
  {
   "cell_type": "code",
   "execution_count": 28,
   "metadata": {},
   "outputs": [],
   "source": [
    "df.write.parquet(\"data\")"
   ]
  },
  {
   "cell_type": "markdown",
   "metadata": {},
   "source": [
    "## loading a csv"
   ]
  },
  {
   "cell_type": "markdown",
   "metadata": {},
   "source": [
    "define a schema for the to be loaded csv:"
   ]
  },
  {
   "cell_type": "code",
   "execution_count": 13,
   "metadata": {},
   "outputs": [
    {
     "data": {
      "text/plain": [
       "import org.apache.spark.sql.types._\n",
       "schema: org.apache.spark.sql.types.StructType = StructType(StructField(id,IntegerType,true), StructField(quote,StringType,true), StructField(author,StringType,true))\n"
      ]
     },
     "execution_count": 13,
     "metadata": {},
     "output_type": "execute_result"
    }
   ],
   "source": [
    "import org.apache.spark.sql.types._\n",
    "\n",
    "val schema = StructType(Array(\n",
    "    StructField(\"id\", IntegerType, true),\n",
    "    StructField(\"quote\", StringType, true),\n",
    "    StructField(\"author\", StringType, true)\n",
    "))"
   ]
  },
  {
   "cell_type": "code",
   "execution_count": 14,
   "metadata": {},
   "outputs": [
    {
     "data": {
      "text/plain": [
       "quotes: org.apache.spark.sql.DataFrame = [id: int, quote: string ... 1 more field]\n"
      ]
     },
     "execution_count": 14,
     "metadata": {},
     "output_type": "execute_result"
    }
   ],
   "source": [
    "val quotes = spark.sqlContext.read.format(\"csv\")\n",
    "    .option(\"header\",\"false\")\n",
    "    .schema(schema)\n",
    "    .load(\"litemind-quotes.csv\")"
   ]
  },
  {
   "cell_type": "code",
   "execution_count": 15,
   "metadata": {},
   "outputs": [
    {
     "name": "stdout",
     "output_type": "stream",
     "text": [
      "+---+--------------------+---------------+\n",
      "| id|               quote|         author|\n",
      "+---+--------------------+---------------+\n",
      "|  1|The third-rate mi...|    A. A. Milne|\n",
      "|  2|History teaches u...|      Abba Eban|\n",
      "|  3|How many legs doe...|Abraham Lincoln|\n",
      "|  4|Nearly all men ca...|Abraham Lincoln|\n",
      "+---+--------------------+---------------+\n",
      "only showing top 4 rows\n",
      "\n"
     ]
    }
   ],
   "source": [
    "quotes.show(4)"
   ]
  },
  {
   "cell_type": "code",
   "execution_count": 16,
   "metadata": {},
   "outputs": [],
   "source": [
    "quotes.createOrReplaceTempView(\"quotes\")"
   ]
  },
  {
   "cell_type": "code",
   "execution_count": 24,
   "metadata": {},
   "outputs": [
    {
     "data": {
      "text/plain": [
       "authors: org.apache.spark.sql.DataFrame = [nr: bigint, author: string]\n"
      ]
     },
     "execution_count": 24,
     "metadata": {},
     "output_type": "execute_result"
    }
   ],
   "source": [
    "val authors = spark.sql(\"select count(*) as nr,author from quotes group by author order by nr desc\")"
   ]
  },
  {
   "cell_type": "code",
   "execution_count": 25,
   "metadata": {},
   "outputs": [
    {
     "name": "stdout",
     "output_type": "stream",
     "text": [
      "+---+-------------------+\n",
      "| nr|             author|\n",
      "+---+-------------------+\n",
      "| 27|     Unknown Author|\n",
      "| 14|         Mark Twain|\n",
      "| 11|    Albert Einstein|\n",
      "|  9|               null|\n",
      "|  8|        Oscar Wilde|\n",
      "|  8|George Bernard Shaw|\n",
      "|  5|    Abraham Lincoln|\n",
      "|  5|             Gandhi|\n",
      "|  4|           Socrates|\n",
      "|  4|        Eric Hoffer|\n",
      "|  4|       Groucho Marx|\n",
      "|  4|   Bertrand Russell|\n",
      "|  3|Arthur Schopenhauer|\n",
      "|  3|     Samuel Johnson|\n",
      "|  3|       George Burns|\n",
      "|  3|  Franklin P. Jones|\n",
      "|  3|          Aristotle|\n",
      "|  3|         Andr? Gide|\n",
      "|  3|        Woody Allen|\n",
      "|  3|        Dick Cavett|\n",
      "+---+-------------------+\n",
      "only showing top 20 rows\n",
      "\n"
     ]
    }
   ],
   "source": [
    "authors.show"
   ]
  },
  {
   "cell_type": "code",
   "execution_count": 40,
   "metadata": {},
   "outputs": [
    {
     "name": "stdout",
     "output_type": "stream",
     "text": [
      "+----------------------------------------------------------------------------------------------+\n",
      "|quote                                                                                         |\n",
      "+----------------------------------------------------------------------------------------------+\n",
      "|Always forgive your enemies; nothing annoys them so much.                                     |\n",
      "|True friends stab you in the front.                                                           |\n",
      "|Be yourself; everyone else is already taken.                                                  |\n",
      "|I am not young enough to know everything.                                                     |\n",
      "|Truth, in matters of religion, is simply the opinion that has survived.                       |\n",
      "|Every saint has a past, and every sinner has a future.                                        |\n",
      "|There is no such thing as a moral or an immoral book. Books are well written or badly written.|\n",
      "|Seriousness is the only refuge of the shallow.                                                |\n",
      "+----------------------------------------------------------------------------------------------+\n",
      "\n"
     ]
    }
   ],
   "source": [
    "spark.sql(\"SELECT quote from quotes WHERE author = 'Oscar Wilde'\").show(20, false)"
   ]
  },
  {
   "cell_type": "code",
   "execution_count": null,
   "metadata": {},
   "outputs": [],
   "source": []
  }
 ],
 "metadata": {
  "celltoolbar": "Raw Cell Format",
  "kernelspec": {
   "display_name": "spylon-kernel",
   "language": "scala",
   "name": "spylon-kernel"
  },
  "language_info": {
   "codemirror_mode": "text/x-scala",
   "file_extension": ".scala",
   "help_links": [
    {
     "text": "MetaKernel Magics",
     "url": "https://github.com/calysto/metakernel/blob/master/metakernel/magics/README.md"
    }
   ],
   "mimetype": "text/x-scala",
   "name": "scala",
   "pygments_lexer": "scala",
   "version": "0.4.1"
  }
 },
 "nbformat": 4,
 "nbformat_minor": 2
}
